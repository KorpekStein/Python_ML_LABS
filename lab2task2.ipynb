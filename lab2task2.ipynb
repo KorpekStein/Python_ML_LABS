{
  "nbformat": 4,
  "nbformat_minor": 0,
  "metadata": {
    "colab": {
      "provenance": [],
      "authorship_tag": "ABX9TyPV85WUZdYDmjbqoFdZKb3+",
      "include_colab_link": true
    },
    "kernelspec": {
      "name": "python3",
      "display_name": "Python 3"
    },
    "language_info": {
      "name": "python"
    }
  },
  "cells": [
    {
      "cell_type": "markdown",
      "metadata": {
        "id": "view-in-github",
        "colab_type": "text"
      },
      "source": [
        "<a href=\"https://colab.research.google.com/github/KorpekStein/Python_ML_LABS/blob/for_variant/lab2task2.ipynb\" target=\"_parent\"><img src=\"https://colab.research.google.com/assets/colab-badge.svg\" alt=\"Open In Colab\"/></a>"
      ]
    },
    {
      "cell_type": "code",
      "execution_count": 1,
      "metadata": {
        "id": "QEag-r-F4Uh7"
      },
      "outputs": [],
      "source": [
        "list = [1,3,5,1,5,1232,6,236,4,36,1,26]\n"
      ]
    },
    {
      "cell_type": "code",
      "source": [
        "for i in list:\n",
        "  print(i)"
      ],
      "metadata": {
        "colab": {
          "base_uri": "https://localhost:8080/"
        },
        "id": "S6O4ZKKV4yA0",
        "outputId": "a81d04dc-5322-4a14-e6c9-352ce6368590"
      },
      "execution_count": 2,
      "outputs": [
        {
          "output_type": "stream",
          "name": "stdout",
          "text": [
            "1\n",
            "3\n",
            "5\n",
            "1\n",
            "5\n",
            "1232\n",
            "6\n",
            "236\n",
            "4\n",
            "36\n",
            "1\n",
            "26\n"
          ]
        }
      ]
    },
    {
      "cell_type": "code",
      "source": [],
      "metadata": {
        "id": "qJZ1sdEh43uI"
      },
      "execution_count": null,
      "outputs": []
    }
  ]
}